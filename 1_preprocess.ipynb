{
 "cells": [
  {
   "cell_type": "markdown",
   "id": "5c8ac146-832d-4e90-a93a-ecb415954776",
   "metadata": {},
   "source": [
    "# Preprocessing\n",
    "We will import out dataset (https://www.kaggle.com/datasets/gauravduttakiit/smoker-status-prediction-using-biosignals?resource=download&select=train_dataset.csv) and start preprocessing. Our dataset will also need to be split into train/test."
   ]
  },
  {
   "cell_type": "code",
   "execution_count": 1,
   "id": "d4d6c62a-5133-4f19-8b37-546d05d2995c",
   "metadata": {},
   "outputs": [],
   "source": [
    "import graphviz\n",
    "import matplotlib.pyplot as plt\n",
    "import numpy as np\n",
    "import pandas as pd\n",
    "from sklearn import tree\n",
    "from sklearn.metrics import classification_report\n",
    "from sklearn.model_selection import train_test_split, GridSearchCV\n",
    "from sklearn.preprocessing import MinMaxScaler\n"
   ]
  },
  {
   "cell_type": "code",
   "execution_count": 2,
   "id": "96b5f85c-c9b2-4a29-aae8-4b7c7bb58e10",
   "metadata": {},
   "outputs": [],
   "source": [
    "full_dataset_df = pd.read_csv(\"data/kaggle_smoker_dataset.csv\", header=0)"
   ]
  },
  {
   "cell_type": "markdown",
   "id": "d8e09bb2-2d19-4593-9a7d-8f6e82ba1203",
   "metadata": {},
   "source": [
    "We have all numerical data so to start there is no need to get dummy variables"
   ]
  },
  {
   "cell_type": "code",
   "execution_count": 3,
   "id": "a386a518-06be-4589-ac30-a52a09b94597",
   "metadata": {},
   "outputs": [
    {
     "name": "stdout",
     "output_type": "stream",
     "text": [
      "<class 'pandas.core.frame.DataFrame'>\n",
      "RangeIndex: 38984 entries, 0 to 38983\n",
      "Data columns (total 23 columns):\n",
      " #   Column               Non-Null Count  Dtype  \n",
      "---  ------               --------------  -----  \n",
      " 0   age                  38984 non-null  int64  \n",
      " 1   height(cm)           38984 non-null  int64  \n",
      " 2   weight(kg)           38984 non-null  int64  \n",
      " 3   waist(cm)            38984 non-null  float64\n",
      " 4   eyesight(left)       38984 non-null  float64\n",
      " 5   eyesight(right)      38984 non-null  float64\n",
      " 6   hearing(left)        38984 non-null  int64  \n",
      " 7   hearing(right)       38984 non-null  int64  \n",
      " 8   systolic             38984 non-null  int64  \n",
      " 9   relaxation           38984 non-null  int64  \n",
      " 10  fasting blood sugar  38984 non-null  int64  \n",
      " 11  Cholesterol          38984 non-null  int64  \n",
      " 12  triglyceride         38984 non-null  int64  \n",
      " 13  HDL                  38984 non-null  int64  \n",
      " 14  LDL                  38984 non-null  int64  \n",
      " 15  hemoglobin           38984 non-null  float64\n",
      " 16  Urine protein        38984 non-null  int64  \n",
      " 17  serum creatinine     38984 non-null  float64\n",
      " 18  AST                  38984 non-null  int64  \n",
      " 19  ALT                  38984 non-null  int64  \n",
      " 20  Gtp                  38984 non-null  int64  \n",
      " 21  dental caries        38984 non-null  int64  \n",
      " 22  smoking              38984 non-null  int64  \n",
      "dtypes: float64(5), int64(18)\n",
      "memory usage: 6.8 MB\n"
     ]
    }
   ],
   "source": [
    "full_dataset_df.info()"
   ]
  },
  {
   "cell_type": "code",
   "execution_count": 4,
   "id": "758c9d93-1ea1-4138-bf83-5f5c7f4ec232",
   "metadata": {},
   "outputs": [
    {
     "data": {
      "text/html": [
       "<div>\n",
       "<style scoped>\n",
       "    .dataframe tbody tr th:only-of-type {\n",
       "        vertical-align: middle;\n",
       "    }\n",
       "\n",
       "    .dataframe tbody tr th {\n",
       "        vertical-align: top;\n",
       "    }\n",
       "\n",
       "    .dataframe thead th {\n",
       "        text-align: right;\n",
       "    }\n",
       "</style>\n",
       "<table border=\"1\" class=\"dataframe\">\n",
       "  <thead>\n",
       "    <tr style=\"text-align: right;\">\n",
       "      <th></th>\n",
       "      <th>age</th>\n",
       "      <th>height(cm)</th>\n",
       "      <th>weight(kg)</th>\n",
       "      <th>waist(cm)</th>\n",
       "      <th>eyesight(left)</th>\n",
       "      <th>eyesight(right)</th>\n",
       "      <th>hearing(left)</th>\n",
       "      <th>hearing(right)</th>\n",
       "      <th>systolic</th>\n",
       "      <th>relaxation</th>\n",
       "      <th>...</th>\n",
       "      <th>HDL</th>\n",
       "      <th>LDL</th>\n",
       "      <th>hemoglobin</th>\n",
       "      <th>Urine protein</th>\n",
       "      <th>serum creatinine</th>\n",
       "      <th>AST</th>\n",
       "      <th>ALT</th>\n",
       "      <th>Gtp</th>\n",
       "      <th>dental caries</th>\n",
       "      <th>smoking</th>\n",
       "    </tr>\n",
       "  </thead>\n",
       "  <tbody>\n",
       "    <tr>\n",
       "      <th>0</th>\n",
       "      <td>35</td>\n",
       "      <td>170</td>\n",
       "      <td>85</td>\n",
       "      <td>97.0</td>\n",
       "      <td>0.9</td>\n",
       "      <td>0.9</td>\n",
       "      <td>1</td>\n",
       "      <td>1</td>\n",
       "      <td>118</td>\n",
       "      <td>78</td>\n",
       "      <td>...</td>\n",
       "      <td>70</td>\n",
       "      <td>142</td>\n",
       "      <td>19.8</td>\n",
       "      <td>1</td>\n",
       "      <td>1.0</td>\n",
       "      <td>61</td>\n",
       "      <td>115</td>\n",
       "      <td>125</td>\n",
       "      <td>1</td>\n",
       "      <td>1</td>\n",
       "    </tr>\n",
       "    <tr>\n",
       "      <th>1</th>\n",
       "      <td>20</td>\n",
       "      <td>175</td>\n",
       "      <td>110</td>\n",
       "      <td>110.0</td>\n",
       "      <td>0.7</td>\n",
       "      <td>0.9</td>\n",
       "      <td>1</td>\n",
       "      <td>1</td>\n",
       "      <td>119</td>\n",
       "      <td>79</td>\n",
       "      <td>...</td>\n",
       "      <td>71</td>\n",
       "      <td>114</td>\n",
       "      <td>15.9</td>\n",
       "      <td>1</td>\n",
       "      <td>1.1</td>\n",
       "      <td>19</td>\n",
       "      <td>25</td>\n",
       "      <td>30</td>\n",
       "      <td>1</td>\n",
       "      <td>0</td>\n",
       "    </tr>\n",
       "    <tr>\n",
       "      <th>2</th>\n",
       "      <td>45</td>\n",
       "      <td>155</td>\n",
       "      <td>65</td>\n",
       "      <td>86.0</td>\n",
       "      <td>0.9</td>\n",
       "      <td>0.9</td>\n",
       "      <td>1</td>\n",
       "      <td>1</td>\n",
       "      <td>110</td>\n",
       "      <td>80</td>\n",
       "      <td>...</td>\n",
       "      <td>57</td>\n",
       "      <td>112</td>\n",
       "      <td>13.7</td>\n",
       "      <td>3</td>\n",
       "      <td>0.6</td>\n",
       "      <td>1090</td>\n",
       "      <td>1400</td>\n",
       "      <td>276</td>\n",
       "      <td>0</td>\n",
       "      <td>0</td>\n",
       "    </tr>\n",
       "    <tr>\n",
       "      <th>3</th>\n",
       "      <td>45</td>\n",
       "      <td>165</td>\n",
       "      <td>80</td>\n",
       "      <td>94.0</td>\n",
       "      <td>0.8</td>\n",
       "      <td>0.7</td>\n",
       "      <td>1</td>\n",
       "      <td>1</td>\n",
       "      <td>158</td>\n",
       "      <td>88</td>\n",
       "      <td>...</td>\n",
       "      <td>46</td>\n",
       "      <td>91</td>\n",
       "      <td>16.9</td>\n",
       "      <td>1</td>\n",
       "      <td>0.9</td>\n",
       "      <td>32</td>\n",
       "      <td>36</td>\n",
       "      <td>36</td>\n",
       "      <td>0</td>\n",
       "      <td>0</td>\n",
       "    </tr>\n",
       "    <tr>\n",
       "      <th>4</th>\n",
       "      <td>20</td>\n",
       "      <td>165</td>\n",
       "      <td>60</td>\n",
       "      <td>81.0</td>\n",
       "      <td>1.5</td>\n",
       "      <td>0.1</td>\n",
       "      <td>1</td>\n",
       "      <td>1</td>\n",
       "      <td>109</td>\n",
       "      <td>64</td>\n",
       "      <td>...</td>\n",
       "      <td>47</td>\n",
       "      <td>92</td>\n",
       "      <td>14.9</td>\n",
       "      <td>1</td>\n",
       "      <td>1.2</td>\n",
       "      <td>26</td>\n",
       "      <td>28</td>\n",
       "      <td>15</td>\n",
       "      <td>0</td>\n",
       "      <td>0</td>\n",
       "    </tr>\n",
       "  </tbody>\n",
       "</table>\n",
       "<p>5 rows × 23 columns</p>\n",
       "</div>"
      ],
      "text/plain": [
       "   age  height(cm)  weight(kg)  waist(cm)  eyesight(left)  eyesight(right)  \\\n",
       "0   35         170          85       97.0             0.9              0.9   \n",
       "1   20         175         110      110.0             0.7              0.9   \n",
       "2   45         155          65       86.0             0.9              0.9   \n",
       "3   45         165          80       94.0             0.8              0.7   \n",
       "4   20         165          60       81.0             1.5              0.1   \n",
       "\n",
       "   hearing(left)  hearing(right)  systolic  relaxation  ...  HDL  LDL  \\\n",
       "0              1               1       118          78  ...   70  142   \n",
       "1              1               1       119          79  ...   71  114   \n",
       "2              1               1       110          80  ...   57  112   \n",
       "3              1               1       158          88  ...   46   91   \n",
       "4              1               1       109          64  ...   47   92   \n",
       "\n",
       "   hemoglobin  Urine protein  serum creatinine   AST   ALT  Gtp  \\\n",
       "0        19.8              1               1.0    61   115  125   \n",
       "1        15.9              1               1.1    19    25   30   \n",
       "2        13.7              3               0.6  1090  1400  276   \n",
       "3        16.9              1               0.9    32    36   36   \n",
       "4        14.9              1               1.2    26    28   15   \n",
       "\n",
       "   dental caries  smoking  \n",
       "0              1        1  \n",
       "1              1        0  \n",
       "2              0        0  \n",
       "3              0        0  \n",
       "4              0        0  \n",
       "\n",
       "[5 rows x 23 columns]"
      ]
     },
     "execution_count": 4,
     "metadata": {},
     "output_type": "execute_result"
    }
   ],
   "source": [
    "full_dataset_df.head()"
   ]
  },
  {
   "cell_type": "markdown",
   "id": "dc75645b-47eb-4b90-bbb6-3a7f2cff45cf",
   "metadata": {},
   "source": [
    "Separate our class labels from the full dataset into it's own df"
   ]
  },
  {
   "cell_type": "code",
   "execution_count": 5,
   "id": "4d379457-2ba4-4694-9725-0eabb7b5ae30",
   "metadata": {},
   "outputs": [],
   "source": [
    "# if cell is ran twice it will fail - try excepts handles that error\n",
    "try:\n",
    "    labels_df = full_dataset_df[\"smoking\"]\n",
    "    full_dataset_df.drop([\"smoking\"], axis=1, inplace=True)\n",
    "except KeyError as e:\n",
    "    pass\n",
    "    \n",
    "label_names = [\"non-smoker\", \"smoker\"] # 0 = non-smoker and 1 = smoker\n"
   ]
  },
  {
   "cell_type": "code",
   "execution_count": 6,
   "id": "96618af3-5747-4517-b28b-c87644896a84",
   "metadata": {},
   "outputs": [
    {
     "data": {
      "text/plain": [
       "(31187, 22)"
      ]
     },
     "execution_count": 6,
     "metadata": {},
     "output_type": "execute_result"
    }
   ],
   "source": [
    "train_df, test_df, train_labels_df, test_labels_df = train_test_split(full_dataset_df, labels_df, test_size=0.2, random_state=33)\n",
    "features = train_df.columns\n",
    "train_df.to_csv(\"output/train_data.csv\", index=False)\n",
    "test_df.to_csv(\"output/test_data.csv\", index=False)\n",
    "train_labels_df.to_csv(\"output/train_labels.csv\", index=False)\n",
    "test_labels_df.to_csv(\"output/test_labels.csv\", index=False)\n",
    "train_df.shape"
   ]
  },
  {
   "cell_type": "code",
   "execution_count": 7,
   "id": "98f2c3b1-40b0-4ee1-b533-5c9ddf6dd665",
   "metadata": {},
   "outputs": [
    {
     "data": {
      "text/plain": [
       "smoking\n",
       "0    19706\n",
       "1    11481\n",
       "Name: count, dtype: int64"
      ]
     },
     "execution_count": 7,
     "metadata": {},
     "output_type": "execute_result"
    }
   ],
   "source": [
    "train_labels_df.value_counts()"
   ]
  },
  {
   "cell_type": "code",
   "execution_count": 8,
   "id": "6dad4497-1f75-49b6-8b9c-a4394489246c",
   "metadata": {},
   "outputs": [
    {
     "data": {
      "text/plain": [
       "(7797, 22)"
      ]
     },
     "execution_count": 8,
     "metadata": {},
     "output_type": "execute_result"
    }
   ],
   "source": [
    "test_df.shape"
   ]
  },
  {
   "cell_type": "code",
   "execution_count": 9,
   "id": "064c3ff3-3e25-4308-b892-d3282c5edef3",
   "metadata": {},
   "outputs": [
    {
     "data": {
      "text/plain": [
       "smoking\n",
       "0    4960\n",
       "1    2837\n",
       "Name: count, dtype: int64"
      ]
     },
     "execution_count": 9,
     "metadata": {},
     "output_type": "execute_result"
    }
   ],
   "source": [
    "test_labels_df.value_counts()"
   ]
  },
  {
   "cell_type": "markdown",
   "id": "110f7b0c-d9ac-4272-96a3-2b6fe3cbb0f6",
   "metadata": {},
   "source": [
    "Looks like we have more non smoking labels in both train and test compared to smoking which we are trying to predict"
   ]
  },
  {
   "cell_type": "code",
   "execution_count": 10,
   "id": "76dd6844-7fa2-4725-ae8f-7ef62f8c0e13",
   "metadata": {
    "scrolled": true
   },
   "outputs": [
    {
     "data": {
      "text/plain": [
       "array([[0.54, 0.36, 0.19, ..., 0.  , 0.01, 0.  ],\n",
       "       [0.46, 0.45, 0.38, ..., 0.01, 0.04, 0.  ],\n",
       "       [0.23, 0.55, 0.43, ..., 0.01, 0.06, 0.  ],\n",
       "       ...,\n",
       "       [0.31, 0.64, 0.33, ..., 0.  , 0.01, 0.  ],\n",
       "       [0.54, 0.27, 0.19, ..., 0.01, 0.02, 0.  ],\n",
       "       [0.62, 0.18, 0.14, ..., 0.01, 0.01, 0.  ]])"
      ]
     },
     "execution_count": 10,
     "metadata": {},
     "output_type": "execute_result"
    }
   ],
   "source": [
    "train_labels_array = train_labels_df.to_numpy()\n",
    "test_labels_array = test_labels_df.to_numpy()\n",
    "\n",
    "min_max_scaler = MinMaxScaler().fit(train_df)\n",
    "train_normalized_array = min_max_scaler.transform(train_df)\n",
    "test_normalized_array = min_max_scaler.transform(test_df)\n",
    "np.set_printoptions(precision=2, linewidth=80, suppress=True)\n",
    "\n",
    "train_normalized_array"
   ]
  },
  {
   "cell_type": "code",
   "execution_count": 11,
   "id": "7d8e6a8f-d9e4-407f-b2bb-0a274868f562",
   "metadata": {},
   "outputs": [],
   "source": [
    "pd.DataFrame(train_normalized_array, columns=features).to_csv(\"output/train_data_normalized.csv\", index=False)\n",
    "pd.DataFrame(test_normalized_array, columns=features).to_csv(\"output/test_data_normalized.csv\", index=False)"
   ]
  },
  {
   "cell_type": "markdown",
   "id": "8006f7ed-abe4-4f54-8bf5-305018e7427c",
   "metadata": {},
   "source": [
    "Our dataset has baseline normalization and each team member running their own model can choose to use this or their own preprocessing process depending on their model.\n",
    "\n",
    "However, this preprocessed data will be using by our baseline model."
   ]
  },
  {
   "cell_type": "code",
   "execution_count": null,
   "id": "e687af04-3514-4af0-8677-931c5c833d81",
   "metadata": {},
   "outputs": [],
   "source": []
  }
 ],
 "metadata": {
  "kernelspec": {
   "display_name": "Python 3 (ipykernel)",
   "language": "python",
   "name": "python3"
  },
  "language_info": {
   "codemirror_mode": {
    "name": "ipython",
    "version": 3
   },
   "file_extension": ".py",
   "mimetype": "text/x-python",
   "name": "python",
   "nbconvert_exporter": "python",
   "pygments_lexer": "ipython3",
   "version": "3.11.5"
  }
 },
 "nbformat": 4,
 "nbformat_minor": 5
}
