{
 "cells": [
  {
   "cell_type": "markdown",
   "id": "a93c8a62-a8c1-48cb-b665-a284507c6e92",
   "metadata": {},
   "source": [
    "# Build a K-Nearest Neighbors Classification Model"
   ]
  },
  {
   "cell_type": "code",
   "execution_count": 1,
   "id": "7e04b75d-8654-4f16-91e0-3e6e676fbd4d",
   "metadata": {
    "tags": []
   },
   "outputs": [],
   "source": [
    "import numpy as np\n",
    "import pandas as pd\n",
    "from sklearn import neighbors, preprocessing, decomposition\n",
    "from sklearn.model_selection import train_test_split, GridSearchCV, KFold\n",
    "from sklearn.metrics import classification_report, confusion_matrix\n",
    "import matplotlib.pyplot as plt"
   ]
  },
  {
   "cell_type": "code",
   "execution_count": 2,
   "id": "dee7216f-1ffc-493b-b33f-0d196b17ce38",
   "metadata": {
    "tags": []
   },
   "outputs": [],
   "source": [
    "X_train_df = pd.read_csv(\"output/train_data_normalized.csv\")\n",
    "X_test_df = pd.read_csv(\"output/test_data_normalized.csv\")\n",
    "y_train_df = pd.read_csv(\"output/train_labels.csv\")\n",
    "y_test_df = pd.read_csv(\"output/test_labels.csv\")\n",
    "features = X_train_df.columns\n",
    "\n",
    "X_train = X_train_df.to_numpy()\n",
    "X_test = X_test_df.to_numpy()\n",
    "y_train = y_train_df.to_numpy().ravel()\n",
    "y_test = y_test_df.to_numpy().ravel()"
   ]
  },
  {
   "cell_type": "markdown",
   "id": "5c6be701-b8d9-475a-a645-c4abf16f6d32",
   "metadata": {},
   "source": [
    "### Begin with a base model that uses the default parameters"
   ]
  },
  {
   "cell_type": "code",
   "execution_count": 3,
   "id": "75a8297a-8b24-4abe-8a38-57bcfb8c2142",
   "metadata": {
    "tags": []
   },
   "outputs": [
    {
     "data": {
      "text/html": [
       "<style>#sk-container-id-1 {color: black;}#sk-container-id-1 pre{padding: 0;}#sk-container-id-1 div.sk-toggleable {background-color: white;}#sk-container-id-1 label.sk-toggleable__label {cursor: pointer;display: block;width: 100%;margin-bottom: 0;padding: 0.3em;box-sizing: border-box;text-align: center;}#sk-container-id-1 label.sk-toggleable__label-arrow:before {content: \"▸\";float: left;margin-right: 0.25em;color: #696969;}#sk-container-id-1 label.sk-toggleable__label-arrow:hover:before {color: black;}#sk-container-id-1 div.sk-estimator:hover label.sk-toggleable__label-arrow:before {color: black;}#sk-container-id-1 div.sk-toggleable__content {max-height: 0;max-width: 0;overflow: hidden;text-align: left;background-color: #f0f8ff;}#sk-container-id-1 div.sk-toggleable__content pre {margin: 0.2em;color: black;border-radius: 0.25em;background-color: #f0f8ff;}#sk-container-id-1 input.sk-toggleable__control:checked~div.sk-toggleable__content {max-height: 200px;max-width: 100%;overflow: auto;}#sk-container-id-1 input.sk-toggleable__control:checked~label.sk-toggleable__label-arrow:before {content: \"▾\";}#sk-container-id-1 div.sk-estimator input.sk-toggleable__control:checked~label.sk-toggleable__label {background-color: #d4ebff;}#sk-container-id-1 div.sk-label input.sk-toggleable__control:checked~label.sk-toggleable__label {background-color: #d4ebff;}#sk-container-id-1 input.sk-hidden--visually {border: 0;clip: rect(1px 1px 1px 1px);clip: rect(1px, 1px, 1px, 1px);height: 1px;margin: -1px;overflow: hidden;padding: 0;position: absolute;width: 1px;}#sk-container-id-1 div.sk-estimator {font-family: monospace;background-color: #f0f8ff;border: 1px dotted black;border-radius: 0.25em;box-sizing: border-box;margin-bottom: 0.5em;}#sk-container-id-1 div.sk-estimator:hover {background-color: #d4ebff;}#sk-container-id-1 div.sk-parallel-item::after {content: \"\";width: 100%;border-bottom: 1px solid gray;flex-grow: 1;}#sk-container-id-1 div.sk-label:hover label.sk-toggleable__label {background-color: #d4ebff;}#sk-container-id-1 div.sk-serial::before {content: \"\";position: absolute;border-left: 1px solid gray;box-sizing: border-box;top: 0;bottom: 0;left: 50%;z-index: 0;}#sk-container-id-1 div.sk-serial {display: flex;flex-direction: column;align-items: center;background-color: white;padding-right: 0.2em;padding-left: 0.2em;position: relative;}#sk-container-id-1 div.sk-item {position: relative;z-index: 1;}#sk-container-id-1 div.sk-parallel {display: flex;align-items: stretch;justify-content: center;background-color: white;position: relative;}#sk-container-id-1 div.sk-item::before, #sk-container-id-1 div.sk-parallel-item::before {content: \"\";position: absolute;border-left: 1px solid gray;box-sizing: border-box;top: 0;bottom: 0;left: 50%;z-index: -1;}#sk-container-id-1 div.sk-parallel-item {display: flex;flex-direction: column;z-index: 1;position: relative;background-color: white;}#sk-container-id-1 div.sk-parallel-item:first-child::after {align-self: flex-end;width: 50%;}#sk-container-id-1 div.sk-parallel-item:last-child::after {align-self: flex-start;width: 50%;}#sk-container-id-1 div.sk-parallel-item:only-child::after {width: 0;}#sk-container-id-1 div.sk-dashed-wrapped {border: 1px dashed gray;margin: 0 0.4em 0.5em 0.4em;box-sizing: border-box;padding-bottom: 0.4em;background-color: white;}#sk-container-id-1 div.sk-label label {font-family: monospace;font-weight: bold;display: inline-block;line-height: 1.2em;}#sk-container-id-1 div.sk-label-container {text-align: center;}#sk-container-id-1 div.sk-container {/* jupyter's `normalize.less` sets `[hidden] { display: none; }` but bootstrap.min.css set `[hidden] { display: none !important; }` so we also need the `!important` here to be able to override the default hidden behavior on the sphinx rendered scikit-learn.org. See: https://github.com/scikit-learn/scikit-learn/issues/21755 */display: inline-block !important;position: relative;}#sk-container-id-1 div.sk-text-repr-fallback {display: none;}</style><div id=\"sk-container-id-1\" class=\"sk-top-container\"><div class=\"sk-text-repr-fallback\"><pre>KNeighborsClassifier()</pre><b>In a Jupyter environment, please rerun this cell to show the HTML representation or trust the notebook. <br />On GitHub, the HTML representation is unable to render, please try loading this page with nbviewer.org.</b></div><div class=\"sk-container\" hidden><div class=\"sk-item\"><div class=\"sk-estimator sk-toggleable\"><input class=\"sk-toggleable__control sk-hidden--visually\" id=\"sk-estimator-id-1\" type=\"checkbox\" checked><label for=\"sk-estimator-id-1\" class=\"sk-toggleable__label sk-toggleable__label-arrow\">KNeighborsClassifier</label><div class=\"sk-toggleable__content\"><pre>KNeighborsClassifier()</pre></div></div></div></div></div>"
      ],
      "text/plain": [
       "KNeighborsClassifier()"
      ]
     },
     "execution_count": 3,
     "metadata": {},
     "output_type": "execute_result"
    }
   ],
   "source": [
    "#Define KNN classifier and fit it to training data\n",
    "knn_base = neighbors.KNeighborsClassifier()\n",
    "knn_base.fit(X_train, y_train)"
   ]
  },
  {
   "cell_type": "code",
   "execution_count": 4,
   "id": "b1eee0d7-eb3c-4ee0-afe1-a71d7ee51ccc",
   "metadata": {
    "tags": []
   },
   "outputs": [
    {
     "name": "stdout",
     "output_type": "stream",
     "text": [
      "              precision    recall  f1-score   support\n",
      "\n",
      "           0       0.84      0.86      0.85     19706\n",
      "           1       0.75      0.72      0.74     11481\n",
      "\n",
      "    accuracy                           0.81     31187\n",
      "   macro avg       0.80      0.79      0.79     31187\n",
      "weighted avg       0.81      0.81      0.81     31187\n",
      "\n"
     ]
    }
   ],
   "source": [
    "#Check classification report for prediction of training data\n",
    "base_train_preds = knn_base.predict(X_train)\n",
    "print(classification_report(y_train, base_train_preds))"
   ]
  },
  {
   "cell_type": "code",
   "execution_count": 5,
   "id": "2be87eb5-3f6f-4652-8f38-8772c392ea3a",
   "metadata": {
    "tags": []
   },
   "outputs": [
    {
     "name": "stdout",
     "output_type": "stream",
     "text": [
      "              precision    recall  f1-score   support\n",
      "\n",
      "           0       0.77      0.80      0.78      4960\n",
      "           1       0.62      0.59      0.61      2837\n",
      "\n",
      "    accuracy                           0.72      7797\n",
      "   macro avg       0.70      0.69      0.70      7797\n",
      "weighted avg       0.72      0.72      0.72      7797\n",
      "\n"
     ]
    }
   ],
   "source": [
    "#Check classification report for prediction of test data\n",
    "base_test_preds = knn_base.predict(X_test)\n",
    "print(classification_report(y_test, base_test_preds))"
   ]
  },
  {
   "cell_type": "markdown",
   "id": "17d9bbb7-d855-4ff3-bd60-aae105120bd9",
   "metadata": {},
   "source": [
    "### Use GridSearchCV to identify the best model parameters"
   ]
  },
  {
   "cell_type": "code",
   "execution_count": 6,
   "id": "2e9479bd-6c2e-49bf-b46c-866f90ab2a80",
   "metadata": {
    "tags": []
   },
   "outputs": [
    {
     "name": "stdout",
     "output_type": "stream",
     "text": [
      "Fitting 5 folds for each of 68 candidates, totalling 340 fits\n"
     ]
    },
    {
     "data": {
      "text/html": [
       "<style>#sk-container-id-2 {color: black;}#sk-container-id-2 pre{padding: 0;}#sk-container-id-2 div.sk-toggleable {background-color: white;}#sk-container-id-2 label.sk-toggleable__label {cursor: pointer;display: block;width: 100%;margin-bottom: 0;padding: 0.3em;box-sizing: border-box;text-align: center;}#sk-container-id-2 label.sk-toggleable__label-arrow:before {content: \"▸\";float: left;margin-right: 0.25em;color: #696969;}#sk-container-id-2 label.sk-toggleable__label-arrow:hover:before {color: black;}#sk-container-id-2 div.sk-estimator:hover label.sk-toggleable__label-arrow:before {color: black;}#sk-container-id-2 div.sk-toggleable__content {max-height: 0;max-width: 0;overflow: hidden;text-align: left;background-color: #f0f8ff;}#sk-container-id-2 div.sk-toggleable__content pre {margin: 0.2em;color: black;border-radius: 0.25em;background-color: #f0f8ff;}#sk-container-id-2 input.sk-toggleable__control:checked~div.sk-toggleable__content {max-height: 200px;max-width: 100%;overflow: auto;}#sk-container-id-2 input.sk-toggleable__control:checked~label.sk-toggleable__label-arrow:before {content: \"▾\";}#sk-container-id-2 div.sk-estimator input.sk-toggleable__control:checked~label.sk-toggleable__label {background-color: #d4ebff;}#sk-container-id-2 div.sk-label input.sk-toggleable__control:checked~label.sk-toggleable__label {background-color: #d4ebff;}#sk-container-id-2 input.sk-hidden--visually {border: 0;clip: rect(1px 1px 1px 1px);clip: rect(1px, 1px, 1px, 1px);height: 1px;margin: -1px;overflow: hidden;padding: 0;position: absolute;width: 1px;}#sk-container-id-2 div.sk-estimator {font-family: monospace;background-color: #f0f8ff;border: 1px dotted black;border-radius: 0.25em;box-sizing: border-box;margin-bottom: 0.5em;}#sk-container-id-2 div.sk-estimator:hover {background-color: #d4ebff;}#sk-container-id-2 div.sk-parallel-item::after {content: \"\";width: 100%;border-bottom: 1px solid gray;flex-grow: 1;}#sk-container-id-2 div.sk-label:hover label.sk-toggleable__label {background-color: #d4ebff;}#sk-container-id-2 div.sk-serial::before {content: \"\";position: absolute;border-left: 1px solid gray;box-sizing: border-box;top: 0;bottom: 0;left: 50%;z-index: 0;}#sk-container-id-2 div.sk-serial {display: flex;flex-direction: column;align-items: center;background-color: white;padding-right: 0.2em;padding-left: 0.2em;position: relative;}#sk-container-id-2 div.sk-item {position: relative;z-index: 1;}#sk-container-id-2 div.sk-parallel {display: flex;align-items: stretch;justify-content: center;background-color: white;position: relative;}#sk-container-id-2 div.sk-item::before, #sk-container-id-2 div.sk-parallel-item::before {content: \"\";position: absolute;border-left: 1px solid gray;box-sizing: border-box;top: 0;bottom: 0;left: 50%;z-index: -1;}#sk-container-id-2 div.sk-parallel-item {display: flex;flex-direction: column;z-index: 1;position: relative;background-color: white;}#sk-container-id-2 div.sk-parallel-item:first-child::after {align-self: flex-end;width: 50%;}#sk-container-id-2 div.sk-parallel-item:last-child::after {align-self: flex-start;width: 50%;}#sk-container-id-2 div.sk-parallel-item:only-child::after {width: 0;}#sk-container-id-2 div.sk-dashed-wrapped {border: 1px dashed gray;margin: 0 0.4em 0.5em 0.4em;box-sizing: border-box;padding-bottom: 0.4em;background-color: white;}#sk-container-id-2 div.sk-label label {font-family: monospace;font-weight: bold;display: inline-block;line-height: 1.2em;}#sk-container-id-2 div.sk-label-container {text-align: center;}#sk-container-id-2 div.sk-container {/* jupyter's `normalize.less` sets `[hidden] { display: none; }` but bootstrap.min.css set `[hidden] { display: none !important; }` so we also need the `!important` here to be able to override the default hidden behavior on the sphinx rendered scikit-learn.org. See: https://github.com/scikit-learn/scikit-learn/issues/21755 */display: inline-block !important;position: relative;}#sk-container-id-2 div.sk-text-repr-fallback {display: none;}</style><div id=\"sk-container-id-2\" class=\"sk-top-container\"><div class=\"sk-text-repr-fallback\"><pre>GridSearchCV(cv=5, estimator=KNeighborsClassifier(),\n",
       "             param_grid={&#x27;n_neighbors&#x27;: array([  1,   4,   7,  10,  13,  16,  19,  22,  25,  28,  31,  34,  37,\n",
       "        40,  43,  46,  49,  52,  55,  58,  61,  64,  67,  70,  73,  76,\n",
       "        79,  82,  85,  88,  91,  94,  97, 100]),\n",
       "                         &#x27;weights&#x27;: [&#x27;distance&#x27;, &#x27;uniform&#x27;]},\n",
       "             verbose=1)</pre><b>In a Jupyter environment, please rerun this cell to show the HTML representation or trust the notebook. <br />On GitHub, the HTML representation is unable to render, please try loading this page with nbviewer.org.</b></div><div class=\"sk-container\" hidden><div class=\"sk-item sk-dashed-wrapped\"><div class=\"sk-label-container\"><div class=\"sk-label sk-toggleable\"><input class=\"sk-toggleable__control sk-hidden--visually\" id=\"sk-estimator-id-2\" type=\"checkbox\" ><label for=\"sk-estimator-id-2\" class=\"sk-toggleable__label sk-toggleable__label-arrow\">GridSearchCV</label><div class=\"sk-toggleable__content\"><pre>GridSearchCV(cv=5, estimator=KNeighborsClassifier(),\n",
       "             param_grid={&#x27;n_neighbors&#x27;: array([  1,   4,   7,  10,  13,  16,  19,  22,  25,  28,  31,  34,  37,\n",
       "        40,  43,  46,  49,  52,  55,  58,  61,  64,  67,  70,  73,  76,\n",
       "        79,  82,  85,  88,  91,  94,  97, 100]),\n",
       "                         &#x27;weights&#x27;: [&#x27;distance&#x27;, &#x27;uniform&#x27;]},\n",
       "             verbose=1)</pre></div></div></div><div class=\"sk-parallel\"><div class=\"sk-parallel-item\"><div class=\"sk-item\"><div class=\"sk-label-container\"><div class=\"sk-label sk-toggleable\"><input class=\"sk-toggleable__control sk-hidden--visually\" id=\"sk-estimator-id-3\" type=\"checkbox\" ><label for=\"sk-estimator-id-3\" class=\"sk-toggleable__label sk-toggleable__label-arrow\">estimator: KNeighborsClassifier</label><div class=\"sk-toggleable__content\"><pre>KNeighborsClassifier()</pre></div></div></div><div class=\"sk-serial\"><div class=\"sk-item\"><div class=\"sk-estimator sk-toggleable\"><input class=\"sk-toggleable__control sk-hidden--visually\" id=\"sk-estimator-id-4\" type=\"checkbox\" ><label for=\"sk-estimator-id-4\" class=\"sk-toggleable__label sk-toggleable__label-arrow\">KNeighborsClassifier</label><div class=\"sk-toggleable__content\"><pre>KNeighborsClassifier()</pre></div></div></div></div></div></div></div></div></div></div>"
      ],
      "text/plain": [
       "GridSearchCV(cv=5, estimator=KNeighborsClassifier(),\n",
       "             param_grid={'n_neighbors': array([  1,   4,   7,  10,  13,  16,  19,  22,  25,  28,  31,  34,  37,\n",
       "        40,  43,  46,  49,  52,  55,  58,  61,  64,  67,  70,  73,  76,\n",
       "        79,  82,  85,  88,  91,  94,  97, 100]),\n",
       "                         'weights': ['distance', 'uniform']},\n",
       "             verbose=1)"
      ]
     },
     "execution_count": 6,
     "metadata": {},
     "output_type": "execute_result"
    }
   ],
   "source": [
    "parameters = {\n",
    "    'n_neighbors': np.arange(1,101,3),\n",
    "    'weights': [\"distance\",\"uniform\"]\n",
    "}\n",
    "knn_gs = GridSearchCV(knn_base, parameters, verbose=1, cv=5)\n",
    "knn_gs.fit(X_train, y_train)"
   ]
  },
  {
   "cell_type": "code",
   "execution_count": 7,
   "id": "33d9a1de-a34a-4454-8f48-20146d5f2c07",
   "metadata": {
    "tags": []
   },
   "outputs": [
    {
     "data": {
      "text/plain": [
       "{'n_neighbors': 82, 'weights': 'distance'}"
      ]
     },
     "execution_count": 7,
     "metadata": {},
     "output_type": "execute_result"
    }
   ],
   "source": [
    "knn_gs.best_params_"
   ]
  },
  {
   "cell_type": "code",
   "execution_count": 8,
   "id": "07b14eec-eb0f-41a8-aee6-72ac598647ca",
   "metadata": {
    "tags": []
   },
   "outputs": [
    {
     "data": {
      "text/plain": [
       "array([[  1.        ,   0.7264567 ],\n",
       "       [  4.        ,   0.74139874],\n",
       "       [  7.        ,   0.75573174],\n",
       "       [ 10.        ,   0.76086209],\n",
       "       [ 13.        ,   0.76204837],\n",
       "       [ 16.        ,   0.76339511],\n",
       "       [ 19.        ,   0.76602458],\n",
       "       [ 22.        ,   0.76746741],\n",
       "       [ 25.        ,   0.76826902],\n",
       "       [ 28.        ,   0.77044946],\n",
       "       [ 31.        ,   0.77093043],\n",
       "       [ 34.        ,   0.77086628],\n",
       "       [ 37.        ,   0.77144345],\n",
       "       [ 40.        ,   0.77227723],\n",
       "       [ 43.        ,   0.77311095],\n",
       "       [ 46.        ,   0.77391256],\n",
       "       [ 49.        ,   0.77327126],\n",
       "       [ 52.        ,   0.77452174],\n",
       "       [ 55.        ,   0.77346368],\n",
       "       [ 58.        ,   0.7740729 ],\n",
       "       [ 61.        ,   0.77352781],\n",
       "       [ 64.        ,   0.77420116],\n",
       "       [ 67.        ,   0.7734637 ],\n",
       "       [ 70.        ,   0.77410498],\n",
       "       [ 73.        ,   0.77500277],\n",
       "       [ 76.        ,   0.7743615 ],\n",
       "       [ 79.        ,   0.7743935 ],\n",
       "       [ 82.        ,   0.77529135],\n",
       "       [ 85.        ,   0.77420115],\n",
       "       [ 88.        ,   0.77452186],\n",
       "       [ 91.        ,   0.77455392],\n",
       "       [ 94.        ,   0.77509901],\n",
       "       [ 97.        ,   0.77490664],\n",
       "       [100.        ,   0.7742653 ]])"
      ]
     },
     "execution_count": 8,
     "metadata": {},
     "output_type": "execute_result"
    }
   ],
   "source": [
    "#Let's run our own cross validation to see if we identify the same best parameters as GridSearch\n",
    "#First let's check using distance weights\n",
    "k_vals = np.arange(1,101,3)\n",
    "dist_results_train = np.zeros([len(k_vals),2])\n",
    "folds = KFold(n_splits = 5)\n",
    "#See how the classifier's accuracy changes over the range of k values when using distance weights\n",
    "for k in range(len(k_vals)):\n",
    "    dist_clf = neighbors.KNeighborsClassifier(n_neighbors=k_vals[k], weights='distance')\n",
    "    train_accuracy = []\n",
    "    for train,test in folds.split(X_train):\n",
    "        dist_clf.fit(X_train[train], y_train[train])\n",
    "        train_correct = 0\n",
    "        dist_preds = dist_clf.predict(X_train[test])\n",
    "        for i in range(len(dist_preds)):\n",
    "            if y_train[test][i] == dist_preds[i]:\n",
    "                train_correct += 1\n",
    "        train_accuracy.append(train_correct/(len(dist_preds)))\n",
    "    dist_results_train[k] = [k_vals[k],np.mean(train_accuracy)]\n",
    "dist_results_train"
   ]
  },
  {
   "cell_type": "code",
   "execution_count": 9,
   "id": "30c8a392-4190-4830-94fe-9b6ffe17d6aa",
   "metadata": {
    "tags": []
   },
   "outputs": [
    {
     "data": {
      "text/plain": [
       "array([[  1.        ,   0.7264567 ],\n",
       "       [  4.        ,   0.70147817],\n",
       "       [  7.        ,   0.71462488],\n",
       "       [ 10.        ,   0.71449646],\n",
       "       [ 13.        ,   0.71702958],\n",
       "       [ 16.        ,   0.71433623],\n",
       "       [ 19.        ,   0.71921021],\n",
       "       [ 22.        ,   0.71898561],\n",
       "       [ 25.        ,   0.72074926],\n",
       "       [ 28.        ,   0.72039646],\n",
       "       [ 31.        ,   0.72302585],\n",
       "       [ 34.        ,   0.7221921 ],\n",
       "       [ 37.        ,   0.72357096],\n",
       "       [ 40.        ,   0.72302598],\n",
       "       [ 43.        ,   0.72674551],\n",
       "       [ 46.        ,   0.7235711 ],\n",
       "       [ 49.        ,   0.72661723],\n",
       "       [ 52.        ,   0.72469327],\n",
       "       [ 55.        ,   0.7253026 ],\n",
       "       [ 58.        ,   0.72418028],\n",
       "       [ 61.        ,   0.72392384],\n",
       "       [ 64.        ,   0.72379553],\n",
       "       [ 67.        ,   0.72478949],\n",
       "       [ 70.        ,   0.7232184 ],\n",
       "       [ 73.        ,   0.72482153],\n",
       "       [ 76.        ,   0.7231221 ],\n",
       "       [ 79.        ,   0.72456502],\n",
       "       [ 82.        ,   0.72350695],\n",
       "       [ 85.        ,   0.72446887],\n",
       "       [ 88.        ,   0.7235391 ],\n",
       "       [ 91.        ,   0.72421243],\n",
       "       [ 94.        ,   0.72402006],\n",
       "       [ 97.        ,   0.72501411],\n",
       "       [100.        ,   0.72357115]])"
      ]
     },
     "execution_count": 9,
     "metadata": {},
     "output_type": "execute_result"
    }
   ],
   "source": [
    "#Run cross validation again - this time using uniform weights\n",
    "k_vals = np.arange(1,101,3)\n",
    "uni_results_train = np.zeros([len(k_vals),2])\n",
    "folds = KFold(n_splits = 5)\n",
    "#See how the classifier's accuracy changes over the range of k values when using uniform weights\n",
    "for k in range(len(k_vals)):\n",
    "    uni_clf = neighbors.KNeighborsClassifier(n_neighbors=k_vals[k], weights='uniform')\n",
    "    train_accuracy = []\n",
    "    for train,test in folds.split(X_train):\n",
    "        uni_clf.fit(X_train[train], y_train[train])\n",
    "        train_correct = 0\n",
    "        uni_preds = uni_clf.predict(X_train[test])\n",
    "        for i in range(len(uni_preds)):\n",
    "            if y_train[test][i] == uni_preds[i]:\n",
    "                train_correct += 1\n",
    "        train_accuracy.append(train_correct/(len(uni_preds)))\n",
    "    uni_results_train[k] = [k_vals[k],np.mean(train_accuracy)]\n",
    "uni_results_train"
   ]
  },
  {
   "cell_type": "code",
   "execution_count": 10,
   "id": "c6bac1bd-7e5f-44b5-8c21-f106d978c8dd",
   "metadata": {
    "tags": []
   },
   "outputs": [
    {
     "data": {
      "text/plain": [
       "<matplotlib.legend.Legend at 0x1374b3310>"
      ]
     },
     "execution_count": 10,
     "metadata": {},
     "output_type": "execute_result"
    },
    {
     "data": {
      "image/png": "[encoded data removed]",
      "text/plain": [
       "<Figure size 640x480 with 1 Axes>"
      ]
     },
     "metadata": {},
     "output_type": "display_data"
    }
   ],
   "source": [
    "#Visualize the results of cross validation\n",
    "plt.figure()\n",
    "plt.title(\"KNN Classifier (Cross Validating Training Data)\")\n",
    "plt.xlabel(\"K\")\n",
    "plt.ylabel(\"CV Accuracy\")\n",
    "plt.plot(dist_results_train[:,0],dist_results_train[:,1],label=\"Distance\")\n",
    "plt.plot(uni_results_train[:,0],uni_results_train[:,1],label=\"Uniform\")\n",
    "plt.legend()"
   ]
  },
  {
   "cell_type": "markdown",
   "id": "0fb30a0f-b403-4c7a-ba0b-107ae553b913",
   "metadata": {},
   "source": [
    "Our own cross validation yielded the same results as GridSearch. The highest accuracy we measured was the KNN model that used k = 82 and distance weights.\n",
    "\n",
    "While we do see better accuracy as we increase k up to 82, the gains are relatively small once we pass k = 30. The accuracy of the models we tested that used distance weights clearly levels off around that point.\n",
    "\n",
    "If we wanted to use a smaller value for k in our KNN model, we would not be sacrificing much accuracy."
   ]
  },
  {
   "cell_type": "markdown",
   "id": "a90546d3-ce98-4239-99ab-61b694485c1d",
   "metadata": {},
   "source": [
    "### Experiment with Feature Reduction using PCA"
   ]
  },
  {
   "cell_type": "code",
   "execution_count": 11,
   "id": "53161e4c-d281-49ab-a0d7-2638c54e87ba",
   "metadata": {
    "tags": []
   },
   "outputs": [
    {
     "name": "stdout",
     "output_type": "stream",
     "text": [
      "[[-0.249  0.286 -0.188 ...  0.002 -0.001 -0.001]\n",
      " [-0.216  0.002  0.034 ...  0.014 -0.002 -0.004]\n",
      " [-0.194 -0.188  0.035 ...  0.003 -0.001 -0.003]\n",
      " ...\n",
      " [-0.21  -0.054 -0.092 ... -0.012  0.     0.001]\n",
      " [-0.252  0.333 -0.188 ...  0.004  0.001  0.001]\n",
      " [-0.267  0.459 -0.234 ...  0.017 -0.001  0.001]]\n"
     ]
    }
   ],
   "source": [
    "smoker_pca = decomposition.PCA(svd_solver='randomized')\n",
    "X_train_trans = smoker_pca.fit_transform(X_train)\n",
    "\n",
    "np.set_printoptions(precision=3, suppress=True)\n",
    "print(X_train_trans)"
   ]
  },
  {
   "cell_type": "code",
   "execution_count": 12,
   "id": "652bc280-73b2-4142-9c77-7c4857450149",
   "metadata": {
    "tags": []
   },
   "outputs": [
    {
     "data": {
      "text/plain": [
       "array([0.46 , 0.162, 0.106, 0.073, 0.033, 0.031, 0.027, 0.024, 0.018,\n",
       "       0.015, 0.012, 0.009, 0.007, 0.006, 0.005, 0.005, 0.004, 0.003,\n",
       "       0.001, 0.001, 0.   , 0.   ])"
      ]
     },
     "execution_count": 12,
     "metadata": {},
     "output_type": "execute_result"
    }
   ],
   "source": [
    "smoker_pca.explained_variance_ratio_"
   ]
  },
  {
   "cell_type": "markdown",
   "id": "e6f8250c-748b-4727-8e5a-f5b00881d3f6",
   "metadata": {},
   "source": [
    "*Note:*  The first 8 components explain > 90% of the variance in our dataset (~91.6%)"
   ]
  },
  {
   "cell_type": "code",
   "execution_count": 13,
   "id": "78581a18-d4ba-4995-adf0-975ea857ac8b",
   "metadata": {
    "tags": []
   },
   "outputs": [
    {
     "name": "stdout",
     "output_type": "stream",
     "text": [
      "[[-0.249  0.286 -0.188 ...  0.03  -0.158  0.051]\n",
      " [-0.216  0.002  0.034 ... -0.02  -0.083  0.065]\n",
      " [-0.194 -0.188  0.035 ... -0.022 -0.08  -0.12 ]\n",
      " ...\n",
      " [-0.21  -0.054 -0.092 ...  0.005 -0.003  0.102]\n",
      " [-0.252  0.333 -0.188 ... -0.008  0.008  0.056]\n",
      " [-0.267  0.459 -0.234 ...  0.032 -0.084 -0.152]]\n"
     ]
    }
   ],
   "source": [
    "#Rerun PCA and explicitly choose 8 components\n",
    "smoker_pca8 = decomposition.PCA(n_components=8, svd_solver='randomized')\n",
    "X_train_trans8 = smoker_pca8.fit_transform(X_train)\n",
    "print(X_train_trans8)"
   ]
  },
  {
   "cell_type": "code",
   "execution_count": 14,
   "id": "e685ca46-332e-4780-8324-af4daa70473e",
   "metadata": {
    "tags": []
   },
   "outputs": [
    {
     "data": {
      "text/plain": [
       "(31187, 8)"
      ]
     },
     "execution_count": 14,
     "metadata": {},
     "output_type": "execute_result"
    }
   ],
   "source": [
    "X_train_trans8.shape"
   ]
  },
  {
   "cell_type": "code",
   "execution_count": 15,
   "id": "06f0610b-e6b9-44c7-beb5-331567848395",
   "metadata": {
    "tags": []
   },
   "outputs": [
    {
     "name": "stdout",
     "output_type": "stream",
     "text": [
      "              precision    recall  f1-score   support\n",
      "\n",
      "           0       1.00      1.00      1.00     19706\n",
      "           1       1.00      1.00      1.00     11481\n",
      "\n",
      "    accuracy                           1.00     31187\n",
      "   macro avg       1.00      1.00      1.00     31187\n",
      "weighted avg       1.00      1.00      1.00     31187\n",
      "\n"
     ]
    }
   ],
   "source": [
    "#Rerun KNN using the transformed data and the same parameters from our best model\n",
    "knn_pca = neighbors.KNeighborsClassifier(n_neighbors=82, weights='distance')\n",
    "knn_pca.fit(X_train_trans8, y_train)\n",
    "\n",
    "#Run the model against the transformed training data\n",
    "pca_train_preds = knn_pca.predict(X_train_trans8)\n",
    "print(classification_report(y_train, pca_train_preds))"
   ]
  },
  {
   "cell_type": "code",
   "execution_count": 16,
   "id": "4ef97c34-d1d7-4f36-b482-6e3110230050",
   "metadata": {
    "tags": []
   },
   "outputs": [
    {
     "name": "stdout",
     "output_type": "stream",
     "text": [
      "              precision    recall  f1-score   support\n",
      "\n",
      "           0       0.76      0.77      0.77      4960\n",
      "           1       0.59      0.57      0.58      2837\n",
      "\n",
      "    accuracy                           0.70      7797\n",
      "   macro avg       0.68      0.67      0.67      7797\n",
      "weighted avg       0.70      0.70      0.70      7797\n",
      "\n"
     ]
    }
   ],
   "source": [
    "#Transform the test data using the same PCs\n",
    "X_test_trans8 = smoker_pca8.fit_transform(X_test)\n",
    "\n",
    "#Run the model against the transformed test data\n",
    "pca_test_preds = knn_pca.predict(X_test_trans8)\n",
    "print(classification_report(y_test, pca_test_preds))"
   ]
  },
  {
   "cell_type": "markdown",
   "id": "db396169-b03a-471d-8728-dc31a40f53c4",
   "metadata": {},
   "source": [
    "*Note:* The KNN model was less accurate when it was fit to the transformed dataset after performing PCA"
   ]
  },
  {
   "cell_type": "markdown",
   "id": "c7ef3906-b3f7-4cc9-a0ac-aefb3ed063b4",
   "metadata": {},
   "source": [
    "### Best KNN Model"
   ]
  },
  {
   "cell_type": "code",
   "execution_count": 17,
   "id": "a192ec91-bd22-45e2-ae92-17ef39812985",
   "metadata": {
    "tags": []
   },
   "outputs": [
    {
     "data": {
      "text/html": [
       "<style>#sk-container-id-3 {color: black;}#sk-container-id-3 pre{padding: 0;}#sk-container-id-3 div.sk-toggleable {background-color: white;}#sk-container-id-3 label.sk-toggleable__label {cursor: pointer;display: block;width: 100%;margin-bottom: 0;padding: 0.3em;box-sizing: border-box;text-align: center;}#sk-container-id-3 label.sk-toggleable__label-arrow:before {content: \"▸\";float: left;margin-right: 0.25em;color: #696969;}#sk-container-id-3 label.sk-toggleable__label-arrow:hover:before {color: black;}#sk-container-id-3 div.sk-estimator:hover label.sk-toggleable__label-arrow:before {color: black;}#sk-container-id-3 div.sk-toggleable__content {max-height: 0;max-width: 0;overflow: hidden;text-align: left;background-color: #f0f8ff;}#sk-container-id-3 div.sk-toggleable__content pre {margin: 0.2em;color: black;border-radius: 0.25em;background-color: #f0f8ff;}#sk-container-id-3 input.sk-toggleable__control:checked~div.sk-toggleable__content {max-height: 200px;max-width: 100%;overflow: auto;}#sk-container-id-3 input.sk-toggleable__control:checked~label.sk-toggleable__label-arrow:before {content: \"▾\";}#sk-container-id-3 div.sk-estimator input.sk-toggleable__control:checked~label.sk-toggleable__label {background-color: #d4ebff;}#sk-container-id-3 div.sk-label input.sk-toggleable__control:checked~label.sk-toggleable__label {background-color: #d4ebff;}#sk-container-id-3 input.sk-hidden--visually {border: 0;clip: rect(1px 1px 1px 1px);clip: rect(1px, 1px, 1px, 1px);height: 1px;margin: -1px;overflow: hidden;padding: 0;position: absolute;width: 1px;}#sk-container-id-3 div.sk-estimator {font-family: monospace;background-color: #f0f8ff;border: 1px dotted black;border-radius: 0.25em;box-sizing: border-box;margin-bottom: 0.5em;}#sk-container-id-3 div.sk-estimator:hover {background-color: #d4ebff;}#sk-container-id-3 div.sk-parallel-item::after {content: \"\";width: 100%;border-bottom: 1px solid gray;flex-grow: 1;}#sk-container-id-3 div.sk-label:hover label.sk-toggleable__label {background-color: #d4ebff;}#sk-container-id-3 div.sk-serial::before {content: \"\";position: absolute;border-left: 1px solid gray;box-sizing: border-box;top: 0;bottom: 0;left: 50%;z-index: 0;}#sk-container-id-3 div.sk-serial {display: flex;flex-direction: column;align-items: center;background-color: white;padding-right: 0.2em;padding-left: 0.2em;position: relative;}#sk-container-id-3 div.sk-item {position: relative;z-index: 1;}#sk-container-id-3 div.sk-parallel {display: flex;align-items: stretch;justify-content: center;background-color: white;position: relative;}#sk-container-id-3 div.sk-item::before, #sk-container-id-3 div.sk-parallel-item::before {content: \"\";position: absolute;border-left: 1px solid gray;box-sizing: border-box;top: 0;bottom: 0;left: 50%;z-index: -1;}#sk-container-id-3 div.sk-parallel-item {display: flex;flex-direction: column;z-index: 1;position: relative;background-color: white;}#sk-container-id-3 div.sk-parallel-item:first-child::after {align-self: flex-end;width: 50%;}#sk-container-id-3 div.sk-parallel-item:last-child::after {align-self: flex-start;width: 50%;}#sk-container-id-3 div.sk-parallel-item:only-child::after {width: 0;}#sk-container-id-3 div.sk-dashed-wrapped {border: 1px dashed gray;margin: 0 0.4em 0.5em 0.4em;box-sizing: border-box;padding-bottom: 0.4em;background-color: white;}#sk-container-id-3 div.sk-label label {font-family: monospace;font-weight: bold;display: inline-block;line-height: 1.2em;}#sk-container-id-3 div.sk-label-container {text-align: center;}#sk-container-id-3 div.sk-container {/* jupyter's `normalize.less` sets `[hidden] { display: none; }` but bootstrap.min.css set `[hidden] { display: none !important; }` so we also need the `!important` here to be able to override the default hidden behavior on the sphinx rendered scikit-learn.org. See: https://github.com/scikit-learn/scikit-learn/issues/21755 */display: inline-block !important;position: relative;}#sk-container-id-3 div.sk-text-repr-fallback {display: none;}</style><div id=\"sk-container-id-3\" class=\"sk-top-container\"><div class=\"sk-text-repr-fallback\"><pre>KNeighborsClassifier(n_neighbors=82, weights=&#x27;distance&#x27;)</pre><b>In a Jupyter environment, please rerun this cell to show the HTML representation or trust the notebook. <br />On GitHub, the HTML representation is unable to render, please try loading this page with nbviewer.org.</b></div><div class=\"sk-container\" hidden><div class=\"sk-item\"><div class=\"sk-estimator sk-toggleable\"><input class=\"sk-toggleable__control sk-hidden--visually\" id=\"sk-estimator-id-5\" type=\"checkbox\" checked><label for=\"sk-estimator-id-5\" class=\"sk-toggleable__label sk-toggleable__label-arrow\">KNeighborsClassifier</label><div class=\"sk-toggleable__content\"><pre>KNeighborsClassifier(n_neighbors=82, weights=&#x27;distance&#x27;)</pre></div></div></div></div></div>"
      ],
      "text/plain": [
       "KNeighborsClassifier(n_neighbors=82, weights='distance')"
      ]
     },
     "execution_count": 17,
     "metadata": {},
     "output_type": "execute_result"
    }
   ],
   "source": [
    "#Define new KNN model using the best parameters that were identified by GridSearch and confirmed by our cross validation\n",
    "knn_best = neighbors.KNeighborsClassifier(n_neighbors=82, weights='distance')\n",
    "knn_best.fit(X_train, y_train)"
   ]
  },
  {
   "cell_type": "code",
   "execution_count": 18,
   "id": "d27fb006-169c-4e8e-9b76-5ec9368c45b1",
   "metadata": {
    "tags": []
   },
   "outputs": [
    {
     "name": "stdout",
     "output_type": "stream",
     "text": [
      "              precision    recall  f1-score   support\n",
      "\n",
      "           0       1.00      1.00      1.00     19706\n",
      "           1       1.00      1.00      1.00     11481\n",
      "\n",
      "    accuracy                           1.00     31187\n",
      "   macro avg       1.00      1.00      1.00     31187\n",
      "weighted avg       1.00      1.00      1.00     31187\n",
      "\n"
     ]
    }
   ],
   "source": [
    "best_train_preds = knn_best.predict(X_train)\n",
    "print(classification_report(y_train, best_train_preds))"
   ]
  },
  {
   "cell_type": "code",
   "execution_count": 19,
   "id": "da486c84-b751-4764-a3fb-23139d913531",
   "metadata": {
    "tags": []
   },
   "outputs": [
    {
     "name": "stdout",
     "output_type": "stream",
     "text": [
      "              precision    recall  f1-score   support\n",
      "\n",
      "           0       0.82      0.85      0.84      4960\n",
      "           1       0.72      0.67      0.70      2837\n",
      "\n",
      "    accuracy                           0.79      7797\n",
      "   macro avg       0.77      0.76      0.77      7797\n",
      "weighted avg       0.79      0.79      0.79      7797\n",
      "\n"
     ]
    }
   ],
   "source": [
    "best_test_preds = knn_best.predict(X_test)\n",
    "print(classification_report(y_test, best_test_preds))"
   ]
  },
  {
   "cell_type": "code",
   "execution_count": 20,
   "id": "8f9184eb-1d6b-482d-9882-7a9520e2737c",
   "metadata": {
    "tags": []
   },
   "outputs": [
    {
     "data": {
      "image/png": "[encoded data removed]",
      "text/plain": [
       "<Figure size 480x480 with 2 Axes>"
      ]
     },
     "metadata": {},
     "output_type": "display_data"
    }
   ],
   "source": [
    "#Create and visualize Confusion Matrix for the best model's predictions of the test data\n",
    "test_cm = confusion_matrix(y_test, best_test_preds)\n",
    "plt.matshow(test_cm)\n",
    "plt.title('Test Data Confusion Matrix')\n",
    "plt.colorbar()\n",
    "plt.ylabel('Actual')\n",
    "plt.xlabel('Predicted')\n",
    "plt.show()"
   ]
  },
  {
   "cell_type": "code",
   "execution_count": null,
   "id": "295c90a2-c069-4fdf-aa80-c7587153c1f0",
   "metadata": {},
   "outputs": [],
   "source": []
  }
 ],
 "metadata": {
  "kernelspec": {
   "display_name": "Python 3 (ipykernel)",
   "language": "python",
   "name": "python3"
  },
  "language_info": {
   "codemirror_mode": {
    "name": "ipython",
    "version": 3
   },
   "file_extension": ".py",
   "mimetype": "text/x-python",
   "name": "python",
   "nbconvert_exporter": "python",
   "pygments_lexer": "ipython3",
   "version": "3.11.5"
  }
 },
 "nbformat": 4,
 "nbformat_minor": 5
}
