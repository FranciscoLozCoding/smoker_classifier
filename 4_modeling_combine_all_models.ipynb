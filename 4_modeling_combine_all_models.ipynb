{
  "cells": [
    {
      "cell_type": "markdown",
      "metadata": {
        "id": "n347jptEOg8v"
      },
      "source": [
        "# Final Project, DM Task 4"
      ]
    },
    {
      "cell_type": "markdown",
      "metadata": {
        "id": "L8W_reE3Ozc9"
      },
      "source": [
        "In our proposal we stated that we will pick the best model, but what if we combine our models to create an Ensemble Model. Being that this is a classification problem we can do this in two ways: VotingClassifier (soft or hard) or StackingClassifier.\n",
        "\n",
        "\n",
        "### VotingClassifier\n",
        "\n",
        "The hard voting method will take the majority vote and use that for the final prediction. This is also called a majority ensemble or a plurality ensemble.\n",
        "\n",
        "The advantage of majority voting is that it reduces the error rate of the predictions, meaning that they are more likely to be correct. The disadvantage is that it does not account for the confidence or probability of each prediction, meaning that it can ignore some useful information.\n",
        "\n",
        "We can also change it to use soft voting and it will consider the probability scores of each class predicted by individual models and averages them but it is harder to implement\n",
        "\n",
        "\n",
        "### StackingClassifier\n",
        "\n",
        "Another way to combine multiple models is to use them as inputs for another model. For example, if you have three models that predict the temperature as 15°C, 18°C, and 20°C, you can use their predictions as features for a fourth model that learns how to weigh them and make a final prediction. This is also called a meta-learner or a second-level learner.\n",
        "\n",
        "The advantage of stacking is that it can learn from the strengths and weaknesses of each model and make a more accurate prediction. The disadvantage is that it can be more complex and prone to overfitting, meaning that it can perform well on the training data but poorly on new data."
      ]
    },
    {
      "cell_type": "markdown",
      "metadata": {
        "id": "omKy90ZJOo-7"
      },
      "source": [
        "## Imported Libraries"
      ]
    },
    {
      "cell_type": "code",
      "execution_count": 1,
      "metadata": {
        "id": "gt4y3uojOXlT"
      },
      "outputs": [],
      "source": [
        "import matplotlib.pyplot as plt\n",
        "import numpy as np\n",
        "import pandas as pd\n",
        "from joblib import dump #used to save the model\n",
        "from sklearn.metrics import accuracy_score, f1_score, classification_report, confusion_matrix, roc_auc_score\n",
        "from sklearn.preprocessing import MinMaxScaler\n",
        "from sklearn.model_selection import train_test_split\n",
        "from sklearn.svm import SVC\n",
        "from sklearn.neighbors import KNeighborsClassifier\n",
        "from xgboost import XGBClassifier\n",
        "from sklearn.ensemble import VotingClassifier, StackingClassifier\n",
        "from sklearn.linear_model import LogisticRegression\n",
        "from sklearn.model_selection import KFold, cross_val_score"
      ]
    },
    {
      "cell_type": "markdown",
      "metadata": {
        "id": "sAPRPTEPU14L"
      },
      "source": [
        "## Helper Function"
      ]
    },
    {
      "cell_type": "code",
      "execution_count": 2,
      "metadata": {
        "id": "zfydChSIU0-b"
      },
      "outputs": [],
      "source": [
        "def eval_model(model, train_data, train_labels, test_data, test_labels, folds):\n",
        "  \"\"\"\n",
        "  Evaluate the model for overfitting and performance using accuracy for both train\n",
        "  and test. Outputs accuracy, classification report, and confusion matrix\n",
        "\n",
        "  INPUTS\n",
        "  ------\n",
        "  model: the model to test\n",
        "  train_data: the data to train the model with\n",
        "  train_labels: the training labels\n",
        "  test_data: the data to test with (this can also be validation data)\n",
        "  test_labels: the labels to test with (this can also be validation labels)\n",
        "  fold: the number of fold to use for training\n",
        "  \"\"\"\n",
        "\n",
        "  # Fit the model\n",
        "  model.fit(train_data, train_labels)\n",
        "\n",
        "  # Predict the labels for test\n",
        "  test_pred = model.predict(test_data)\n",
        "\n",
        "  # Calculate the accuracy of the model\n",
        "  train_accuracy = np.mean(cross_val_score(model, train_data, train_labels, cv=folds, scoring='accuracy')) #use cross fold validation\n",
        "  test_accuracy = accuracy_score(test_labels, test_pred)\n",
        "  print(\"Train Accuracy: \", train_accuracy)\n",
        "  print(\"Test/Validation Accuracy: \", test_accuracy)\n",
        "\n",
        "  #create cm\n",
        "  print(classification_report(test_labels, test_pred))\n",
        "\n",
        "  #Create and visualize Confusion Matrix for model predictions of the test data\n",
        "  test_cm = confusion_matrix(test_labels, test_pred)\n",
        "  plt.matshow(test_cm)\n",
        "  plt.title('Test Data Confusion Matrix')\n",
        "  plt.colorbar()\n",
        "  plt.ylabel('Actual')\n",
        "  plt.xlabel('Predicted')\n",
        "  plt.show()\n",
        "\n",
        "  return"
      ]
    },
    {
      "cell_type": "markdown",
      "metadata": {
        "id": "6d_bXFC8QT4N"
      },
      "source": [
        "## Preprocess"
      ]
    },
    {
      "cell_type": "code",
      "execution_count": 4,
      "metadata": {
        "id": "Q19BoySHQXnB"
      },
      "outputs": [],
      "source": [
        "smoker_df = pd.read_csv(\"data/kaggle_smoker_dataset.csv\")\n",
        "\n",
        "# if cell is ran twice it will fail - try excepts handles that error\n",
        "try:\n",
        "    labels_df = smoker_df[\"smoking\"]\n",
        "    smoker_df.drop([\"smoking\"], axis=1, inplace=True)\n",
        "except KeyError as e:\n",
        "    pass\n",
        "\n",
        "label_names = [\"non-smoker\", \"smoker\"] # 0 = non-smoker and 1 = smoker\n",
        "\n",
        "# Min-Max scaling\n",
        "min_max_scaler = MinMaxScaler()\n",
        "smoker_df_scaled = min_max_scaler.fit_transform(smoker_df)\n",
        "\n",
        "#train/validation/test split\n",
        "train_df, test_df, train_labels_df, test_labels_df = train_test_split(smoker_df_scaled, labels_df, test_size=0.2, random_state=33, stratify=labels_df)\n",
        "train_df, valid_df, train_labels_df, valid_labels_df = train_test_split(train_df, train_labels_df, test_size=0.2, random_state=33, stratify=train_labels_df)"
      ]
    },
    {
      "cell_type": "markdown",
      "metadata": {
        "id": "FO244jB8RBE4"
      },
      "source": [
        "## Define Best Models"
      ]
    },
    {
      "cell_type": "markdown",
      "metadata": {
        "id": "GRTu4MsNRDCo"
      },
      "source": [
        "look at our individual model notebooks on how we arrived to these models and their hyper params"
      ]
    },
    {
      "cell_type": "code",
      "execution_count": 6,
      "metadata": {
        "id": "UEvJqOuzRHsX"
      },
      "outputs": [],
      "source": [
        "rbf_svm = SVC(kernel='rbf', C=10, gamma='scale')\n",
        "knn = KNeighborsClassifier(n_neighbors=82, weights='distance')\n",
        "xgb = XGBClassifier(colsample_bytree=0.8,gamma=0,learning_rate=0.1,max_depth=5, min_child_weight=1,n_estimators=1000,reg_alpha=0,reg_lambda=0,subsample=0.9)"
      ]
    },
    {
      "cell_type": "markdown",
      "metadata": {
        "id": "H-WWC5Y8Tdej"
      },
      "source": [
        "## Voting Classifier with Hard voting"
      ]
    },
    {
      "cell_type": "code",
      "execution_count": 7,
      "metadata": {
        "colab": {
          "base_uri": "https://localhost:8080/",
          "height": 608
        },
        "id": "WHbpN2eoTgzE",
        "outputId": "6c44b2b0-ddf6-40ca-b04e-b943f331f97d"
      },
      "outputs": [
        {
          "name": "stdout",
          "output_type": "stream",
          "text": [
            "Train Accuracy:  0.7765038194247786\n",
            "Test/Validation Accuracy:  0.7869509458159667\n",
            "              precision    recall  f1-score   support\n",
            "\n",
            "           0       0.83      0.84      0.83      3947\n",
            "           1       0.71      0.70      0.71      2291\n",
            "\n",
            "    accuracy                           0.79      6238\n",
            "   macro avg       0.77      0.77      0.77      6238\n",
            "weighted avg       0.79      0.79      0.79      6238\n",
            "\n"
          ]
        },
        {
          "data": {
            "image/png": "[encoded data removed]",
            "text/plain": [
              "<Figure size 480x480 with 2 Axes>"
            ]
          },
          "metadata": {},
          "output_type": "display_data"
        }
      ],
      "source": [
        "# Combine the models using majority voting\n",
        "ensemble_hardvoting = VotingClassifier(estimators=[('rbf_svm', rbf_svm), ('knn', knn), ('xgb', xgb)], voting='hard')\n",
        "\n",
        "#eval model with validation data\n",
        "eval_model(ensemble_hardvoting, train_df, train_labels_df, valid_df, valid_labels_df, 5)"
      ]
    },
    {
      "cell_type": "markdown",
      "metadata": {
        "id": "6-VPbW_rAXRj"
      },
      "source": [
        "No signals of overfitting and it did better than all of our individual models"
      ]
    },
    {
      "cell_type": "markdown",
      "metadata": {
        "id": "S4fmgPS5WNtL"
      },
      "source": [
        "## Voting Classifier with Soft voting"
      ]
    },
    {
      "cell_type": "code",
      "execution_count": 8,
      "metadata": {
        "colab": {
          "base_uri": "https://localhost:8080/",
          "height": 608
        },
        "id": "h95pPn4YWPog",
        "outputId": "5d7fd11a-5aad-412b-a14c-d0e424a06650"
      },
      "outputs": [
        {
          "name": "stdout",
          "output_type": "stream",
          "text": [
            "Train Accuracy:  0.7833577276822636\n",
            "Test/Validation Accuracy:  0.7962487976915678\n",
            "              precision    recall  f1-score   support\n",
            "\n",
            "           0       0.83      0.85      0.84      3947\n",
            "           1       0.73      0.70      0.72      2291\n",
            "\n",
            "    accuracy                           0.80      6238\n",
            "   macro avg       0.78      0.78      0.78      6238\n",
            "weighted avg       0.79      0.80      0.80      6238\n",
            "\n"
          ]
        },
        {
          "data": {
            "image/png": "[encoded data removed]",
            "text/plain": [
              "<Figure size 480x480 with 2 Axes>"
            ]
          },
          "metadata": {},
          "output_type": "display_data"
        }
      ],
      "source": [
        "# to use soft voting we have to enable probability estimates\n",
        "rbf_svm_prob = SVC(kernel='rbf', C=10, gamma='scale', probability=True)\n",
        "knn_prob = KNeighborsClassifier(n_neighbors=85, weights='distance')\n",
        "  # for xgb to use probability estimates we have to set objective to binary:logistic and set use_label_encoder=False to false\n",
        "xgb_prob = XGBClassifier(colsample_bytree=0.8, gamma=0, learning_rate=0.1, max_depth=5, min_child_weight=1,\n",
        "                     n_estimators=1000, reg_alpha=0, reg_lambda=0, subsample=0.9, objective='binary:logistic', use_label_encoder=False)\n",
        "\n",
        "# Combine the models using majority voting\n",
        "ensemble_softvoting = VotingClassifier(estimators=[('rbf_svm', rbf_svm_prob), ('knn', knn_prob), ('xgb', xgb_prob)], voting='soft')\n",
        "\n",
        "#eval model with validation data\n",
        "eval_model(ensemble_softvoting, train_df, train_labels_df, valid_df, valid_labels_df, 5)"
      ]
    },
    {
      "cell_type": "markdown",
      "metadata": {
        "id": "slq8kczRAfFM"
      },
      "source": [
        "No signals of overfitting and it did better than all of our individual models"
      ]
    },
    {
      "cell_type": "markdown",
      "metadata": {
        "id": "885miGHjWP4o"
      },
      "source": [
        "## Stacking Classifier with Logistic Regression as Second-level Learner"
      ]
    },
    {
      "cell_type": "markdown",
      "metadata": {
        "id": "cyD0b_sVANPb"
      },
      "source": [
        "More work can be done to find a better second level learner and fine tune it"
      ]
    },
    {
      "cell_type": "code",
      "execution_count": 9,
      "metadata": {
        "colab": {
          "base_uri": "https://localhost:8080/",
          "height": 608
        },
        "id": "74tBrj5IWUhZ",
        "outputId": "fb6f6eb9-61be-409c-bd02-a7860035785c"
      },
      "outputs": [
        {
          "name": "stdout",
          "output_type": "stream",
          "text": [
            "Train Accuracy:  0.7786681802169181\n",
            "Test/Validation Accuracy:  0.7943251042000641\n",
            "              precision    recall  f1-score   support\n",
            "\n",
            "           0       0.83      0.84      0.84      3947\n",
            "           1       0.73      0.71      0.72      2291\n",
            "\n",
            "    accuracy                           0.79      6238\n",
            "   macro avg       0.78      0.78      0.78      6238\n",
            "weighted avg       0.79      0.79      0.79      6238\n",
            "\n"
          ]
        },
        {
          "data": {
            "image/png": "[encoded data removed]",
            "text/plain": [
              "<Figure size 480x480 with 2 Axes>"
            ]
          },
          "metadata": {},
          "output_type": "display_data"
        }
      ],
      "source": [
        "#define second-level learner\n",
        "log_reg = LogisticRegression(penalty='l2')\n",
        "\n",
        "# Create a stacking ensemble\n",
        "ensemble_stack = StackingClassifier(estimators=[('rbf_svm', rbf_svm), ('knn', knn), ('xgb', xgb)], final_estimator=log_reg)\n",
        "\n",
        "#eval model with validation data\n",
        "eval_model(ensemble_stack, train_df, train_labels_df, valid_df, valid_labels_df, 5)"
      ]
    },
    {
      "cell_type": "markdown",
      "metadata": {
        "id": "AQqlVfseEaZd"
      },
      "source": [
        "## Using the Best Model to eval on Test split"
      ]
    },
    {
      "cell_type": "code",
      "execution_count": 10,
      "metadata": {
        "colab": {
          "base_uri": "https://localhost:8080/",
          "height": 608
        },
        "id": "EudEHFaHEiHQ",
        "outputId": "830977b9-1cfc-4e79-facb-0a72e1135ab9"
      },
      "outputs": [
        {
          "name": "stdout",
          "output_type": "stream",
          "text": [
            "Train Accuracy:  0.7832775512942101\n",
            "Test/Validation Accuracy:  0.7885084006669232\n",
            "              precision    recall  f1-score   support\n",
            "\n",
            "           0       0.83      0.84      0.83      4933\n",
            "           1       0.72      0.69      0.71      2864\n",
            "\n",
            "    accuracy                           0.79      7797\n",
            "   macro avg       0.77      0.77      0.77      7797\n",
            "weighted avg       0.79      0.79      0.79      7797\n",
            "\n"
          ]
        },
        {
          "data": {
            "image/png": "[encoded data removed]",
            "text/plain": [
              "<Figure size 480x480 with 2 Axes>"
            ]
          },
          "metadata": {},
          "output_type": "display_data"
        }
      ],
      "source": [
        "#eval model with test data\n",
        "eval_model(ensemble_softvoting, train_df, train_labels_df, test_df, test_labels_df, 5)"
      ]
    },
    {
      "cell_type": "markdown",
      "metadata": {
        "id": "mOWJaPlCqZQj"
      },
      "source": [
        "## Save The Best Model"
      ]
    },
    {
      "cell_type": "markdown",
      "metadata": {
        "id": "raX-jEZ3qoan"
      },
      "source": [
        "We will be using our best model in our app, so we need to save the model and the scaler. Doing this will avoid having to re train the model and fit the scaler."
      ]
    },
    {
      "cell_type": "code",
      "execution_count": 11,
      "metadata": {
        "colab": {
          "base_uri": "https://localhost:8080/"
        },
        "id": "-0v5B7GGqlTc",
        "outputId": "9314a3fd-520e-46ff-954c-a53297d7d78c"
      },
      "outputs": [
        {
          "data": {
            "text/plain": [
              "['ensemble_softvoting_model.joblib']"
            ]
          },
          "execution_count": 11,
          "metadata": {},
          "output_type": "execute_result"
        }
      ],
      "source": [
        "# Save the scaler to disk\n",
        "dump(min_max_scaler, 'min_max_scaler.joblib')\n",
        "# Save the model to disk\n",
        "dump(ensemble_softvoting, 'ensemble_softvoting_model.joblib')"
      ]
    }
  ],
  "metadata": {
    "colab": {
      "provenance": []
    },
    "kernelspec": {
      "display_name": "Python 3 (ipykernel)",
      "language": "python",
      "name": "python3"
    },
    "language_info": {
      "codemirror_mode": {
        "name": "ipython",
        "version": 3
      },
      "file_extension": ".py",
      "mimetype": "text/x-python",
      "name": "python",
      "nbconvert_exporter": "python",
      "pygments_lexer": "ipython3",
      "version": "3.11.5"
    }
  },
  "nbformat": 4,
  "nbformat_minor": 0
}
